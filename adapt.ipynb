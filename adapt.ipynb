{
 "cells": [
  {
   "cell_type": "markdown",
   "metadata": {},
   "source": [
    "                        llama3-8b  pass@1: 0.38 | phi3 pass@1: 0.60  [HumanEval]"
   ]
  },
  {
   "cell_type": "code",
   "execution_count": 1,
   "metadata": {},
   "outputs": [
    {
     "data": {
      "application/vnd.jupyter.widget-view+json": {
       "model_id": "229a2c927d53413a85e045de7b78a763",
       "version_major": 2,
       "version_minor": 0
      },
      "text/plain": [
       "Fetching 13 files:   0%|          | 0/13 [00:00<?, ?it/s]"
      ]
     },
     "metadata": {},
     "output_type": "display_data"
    },
    {
     "name": "stdout",
     "output_type": "stream",
     "text": [
      "[WARNING] rope_scaling 'type' currently only supports 'linear' setting rope scaling to false.\n"
     ]
    },
    {
     "name": "stderr",
     "output_type": "stream",
     "text": [
      "Special tokens have been added in the vocabulary, make sure the associated word embeddings are fine-tuned or trained.\n"
     ]
    }
   ],
   "source": [
    "from data import CodeCompletionGenerator, load_config\n",
    "from human_eval.data import write_jsonl, read_problems\n",
    "from tqdm import tqdm as tqdm\n",
    "\n",
    "\n",
    "config_name = \"phi_3_instruct\"\n",
    "code_gen = CodeCompletionGenerator.from_config(config_name, device=\"mps\")\n",
    "\n",
    "# Get the error message on sub-batch and do fast adaptation \n",
    "system_prompt = \"Do not fuck it up\"\n",
    "# Run Inference on HumanEval | Generate -> GetError -> SaveErro\n",
    "# code_gen.run_human_eval_test(indices=indices, global_system_prompt=system_prompt)\n"
   ]
  },
  {
   "cell_type": "markdown",
   "metadata": {},
   "source": [
    "#### Fast Adaptation || Monte Carlo Tree Search"
   ]
  },
  {
   "cell_type": "code",
   "execution_count": null,
   "metadata": {},
   "outputs": [],
   "source": [
    "# Reflective Adaptation | Use Groq for fast iteration | CUDA device could also be fast (?)\n",
    "from src.fast_adapt import *\n",
    "from src.prompt import *\n",
    "import numpy as np\n",
    "\n",
    "batches = [indices.tolist() for indices in np.array_split(list(range(162)), 60)]\n",
    "max_search = 30\n",
    "pb = tqdm(total=len(batches), desc=\"MCTS Search Batches\")\n",
    "for i, indices in enumerate(batches):\n",
    "    pb.desc = \"MCTS Search Batches: %d/%d\" % (i + 1, len(batches))\n",
    "    # Initialize Sub-Batch Indices\n",
    "    init_prompt = \"Do not fuck it up\"\n",
    "\n",
    "    # Initialize the MCTS object\n",
    "    mcts = MCTS(init_prompt, 0, indices, code_gen, max_search=max_search)\n",
    "\n",
    "    # Run the search loop\n",
    "    while not mcts.is_search_complete():\n",
    "        node_to_expand = mcts.select_node()\n",
    "        mcts.expand_node(node_to_expand)\n",
    "        pb.update(1)\n",
    "    pb.n = max_search * (i + 1)\n",
    "    # Retrieve the best prompt after the search is complete\n",
    "    best_prompt = mcts.get_best_prompt()\n",
    "    print(\"Best Prompt on Batch %d: %s\" % (i, best_prompt))\n",
    "    mcts.save_best_node()"
   ]
  },
  {
   "cell_type": "code",
   "execution_count": null,
   "metadata": {},
   "outputs": [],
   "source": []
  }
 ],
 "metadata": {
  "kernelspec": {
   "display_name": "base",
   "language": "python",
   "name": "python3"
  },
  "language_info": {
   "codemirror_mode": {
    "name": "ipython",
    "version": 3
   },
   "file_extension": ".py",
   "mimetype": "text/x-python",
   "name": "python",
   "nbconvert_exporter": "python",
   "pygments_lexer": "ipython3",
   "version": "3.11.5"
  }
 },
 "nbformat": 4,
 "nbformat_minor": 2
}
