{
 "cells": [
  {
   "cell_type": "markdown",
   "metadata": {},
   "source": [
    "                        llama3-8b  pass@1: 0.38 | phi3 pass@1: 0.60  [HumanEval]"
   ]
  },
  {
   "cell_type": "code",
   "execution_count": 1,
   "metadata": {},
   "outputs": [
    {
     "data": {
      "application/vnd.jupyter.widget-view+json": {
       "model_id": "88d7a7d3eaba49869e99fce7c81b8101",
       "version_major": 2,
       "version_minor": 0
      },
      "text/plain": [
       "Fetching 13 files:   0%|          | 0/13 [00:00<?, ?it/s]"
      ]
     },
     "metadata": {},
     "output_type": "display_data"
    },
    {
     "name": "stdout",
     "output_type": "stream",
     "text": [
      "[WARNING] rope_scaling 'type' currently only supports 'linear' setting rope scaling to false.\n"
     ]
    },
    {
     "name": "stderr",
     "output_type": "stream",
     "text": [
      "Special tokens have been added in the vocabulary, make sure the associated word embeddings are fine-tuned or trained.\n"
     ]
    }
   ],
   "source": [
    "from data import CodeCompletionGenerator, load_config\n",
    "from human_eval.data import write_jsonl, read_problems\n",
    "from tqdm import tqdm as tqdm\n",
    "\n",
    "\n",
    "config_name = \"phi_3_instruct\"\n",
    "code_gen = CodeCompletionGenerator.from_config(config_name, device=\"mps\")\n",
    "\n",
    "# Get the error message on sub-batch and do fast adaptation \n",
    "system_prompt = \"Do not fuck it up\"\n",
    "# Run Inference on HumanEval | Generate -> GetError -> SaveErro\n",
    "# code_gen.run_human_eval_test(indices=indices, global_system_prompt=system_prompt)\n"
   ]
  },
  {
   "cell_type": "markdown",
   "metadata": {},
   "source": [
    "#### Fast Adaptation"
   ]
  },
  {
   "cell_type": "code",
   "execution_count": 2,
   "metadata": {},
   "outputs": [
    {
     "name": "stdout",
     "output_type": "stream",
     "text": [
      "Call Function:  prompt_rewrite_tool {'error_analysis': 'The error encountered in the previous solution was related to an incorrect implementation of the Fibonacci function. The function did not return the correct Fibonacci number.', 'prompt': 'To fix the error, you should revise your implementation to correctly calculate the Fibonacci number.'}\n",
      "Call Function:  prompt_rewrite_tool {'error_analysis': 'The function failed to pass all the unit tests.', 'prompt': 'Check your function implementation and make sure it correctly calculates the nth Fibonacci number.'}\n"
     ]
    },
    {
     "data": {
      "text/plain": [
       "['To fix the error, you should revise your implementation to correctly calculate the Fibonacci number.',\n",
       " 'Check your function implementation and make sure it correctly calculates the nth Fibonacci number.']"
      ]
     },
     "execution_count": 2,
     "metadata": {},
     "output_type": "execute_result"
    }
   ],
   "source": [
    "# Reflective Adaptation | Use Groq for fast iteration | CUDA device could also be fast (?)\n",
    "from src.fast_adapt import *\n",
    "from src.prompt import *\n",
    "import numpy as np\n",
    "# Initialize Sub-Batch Indices\n",
    "indices = [55, 60]\n",
    "\n",
    "\n",
    "\n",
    "# Key is to incorporate the information into node\n",
    "class Node:\n",
    "    def __init__(self, prompt, score, id, parent=None):\n",
    "        self.prompt = prompt\n",
    "        self.score = score\n",
    "        self.id = id\n",
    "        self.visits = 1\n",
    "        self.parent = parent\n",
    "        self.children = []\n",
    "\n",
    "    def update_score(self, additional_score):\n",
    "        self.score += additional_score\n",
    "        self.visits += 1\n",
    "        if self.parent:\n",
    "            self.parent.update_score(additional_score) # Trace back to parent node -- add score along the trajectory\n",
    "\n",
    "\n",
    "class MCTS:\n",
    "    def __init__(self, root_prompt, id, infos):\n",
    "        self.root = Node(prompt=root_prompt, score=base_score, id=id)\n",
    "        self.nodes = [self.root]\n",
    "\n",
    "    def select_node(self):\n",
    "        # Select the node with the highest UCB1 score\n",
    "        best_score = -1\n",
    "        best_node = None\n",
    "        for node in self.nodes:\n",
    "            if node.visits == 0:\n",
    "                return node\n",
    "            score = node.score / node.visits + np.sqrt(2 * np.log(sum(n.visits for n in self.nodes)) / node.visits)\n",
    "            if score > best_score:\n",
    "                best_score = score\n",
    "                best_node = node\n",
    "        return best_node\n",
    "\n",
    "    def expand_node(self, node, prompt, score, id): # Given a new prompt with verified score, expand new child node under current node\n",
    "        new_node = Node(prompt=prompt, score=score, id=id, parent=node)\n",
    "        node.children.append(new_node)\n",
    "        self.nodes.append(new_node)\n",
    "\n",
    "    def is_search_complete(self):\n",
    "        # Define a condition to stop the search, e.g., a maximum number of nodes\n",
    "        return len(self.nodes) > 100\n",
    "\n",
    "    def get_best_prompt(self):\n",
    "        # Return the prompt of the node with the highest average score\n",
    "        best_node = max(self.nodes, key=lambda n: n.score / n.visits if n.visits > 0 else 0)\n",
    "        return best_node.prompt\n",
    "\n",
    "    def get_prompt_score(self, prompt):\n",
    "        # Find the node with the given prompt and return its score\n",
    "        for node in self.nodes:\n",
    "            if node.prompt == prompt:\n",
    "                return node.score / node.visits if node.visits > 0 else 0\n",
    "        return 0\n",
    "\n",
    "# Begin with a root node (prompt, score) pairs in short\n",
    "init_prompt = \"Do not fuck it up\"\n",
    "curr_id = 0\n",
    "\n",
    "# code_gen.run_human_eval_test(indices=indices, global_system_prompt=init_prompt, id=curr_id)\n",
    "infos = code_gen.get_info(indices, curr_id)\n",
    "prompt_score = np.array([info['success'] for info in infos]).mean()\n",
    "\n",
    "# Evolve 2 Child Nodes from Parent Node\n",
    "case_infos = form_case_infos(infos)\n",
    "prompts = call_rewriter(case_infos)\n",
    "\n"
   ]
  },
  {
   "cell_type": "code",
   "execution_count": 11,
   "metadata": {},
   "outputs": [
    {
     "name": "stderr",
     "output_type": "stream",
     "text": [
      "Generating code completions:   0%|          | 0/2 [00:00<?, ?it/s]"
     ]
    },
    {
     "name": "stdout",
     "output_type": "stream",
     "text": [
      "==========\n",
      "Prompt: <s><|system|>\n",
      "You are a friendly chatbot. [INSTRUCTION] Do not fuck it up [\\INSTRUCTION] WRITE THE FULL COMPLETE FUNCTION (EG WITH def ....) END CODE WITH '```'. NOTE YOU ABSOLUTELY MUST END THE CODE WITH END CODE WITH '```' OR ELSE THE CODE WILL NOT BE INTERPRETTED!!!!<|end|>\n",
      "<|user|>\n",
      "\n",
      "\n",
      "def fib(n: int):\n",
      "    \"\"\"Return n-th Fibonacci number.\n",
      "    >>> fib(10)\n",
      "    55\n",
      "    >>> fib(1)\n",
      "    1\n",
      "    >>> fib(8)\n",
      "    21\n",
      "    \"\"\"\n",
      "<|end|>\n",
      "<|assistant|>\n",
      "\n",
      "\n",
      "def fib(n: int):\n",
      "    \"\"\"Return n-th Fibonacci number.\n",
      "    >>> fib(10)\n",
      "    55\n",
      "    >>> fib(1)\n",
      "    1\n",
      "    >>> fib(8)\n",
      "    21\n",
      "    \"\"\"\n",
      "    if n <= 0:\n",
      "        return \"Input should be a positive integer.\"\n",
      "    elif n == 1:\n",
      "        return 0\n",
      "    elif n == 2:\n",
      "        return 1\n",
      "    else:\n",
      "        a, b = 0, 1\n",
      "        for _ in range(2, n):\n",
      "            a, b = b, a + b\n",
      "        return b\n",
      "\n",
      "```<|end|><|assistant|> ```python\n",
      "\n",
      "def fib(n: int):\n",
      "    \"\"\"Return n-th Fibonacci number.\n",
      "    >>> fib(10)\n",
      "    55\n",
      "    >>> fib(1)\n",
      "    1\n",
      "    >>> fib(8)\n",
      "    21\n",
      "    \"\"\"\n",
      "    if n <= 0:\n",
      "        return \"Input should be a positive integer.\"\n",
      "    elif n == 1:\n",
      "        return 0\n",
      "    elif n == 2:\n",
      "        return 1\n",
      "    else:\n",
      "        a, b = 0, 1\n",
      "        for _ in range(2, n):\n",
      "            a, b = b, a + b\n",
      "        return b\n",
      "\n",
      "```<|end|><|assistant|> ```python\n",
      "\n",
      "def fib(n: int):\n",
      "    \"\"\"Return n-th Fibonacci number.\n",
      "    >>> fib(10)\n",
      "    55\n",
      "    >>> fib(1)\n",
      "    1\n",
      "    >>> fib(8)\n",
      "    21\n",
      "    \"\"\"\n",
      "    if n <= 0:\n",
      "        return \"Input should be a positive integer.\"\n",
      "    elif n == 1:\n",
      "        return 0\n",
      "    elif n == 2:\n",
      "        return 1\n",
      "    else:\n",
      "        a, b = 0, 1\n",
      "        for _ in range(2, n):\n",
      "            a, b = b, a + b\n",
      "        return b\n",
      "\n",
      "```<|end|><|assistant|> ```python\n",
      "\n",
      "def fib(n: int):\n",
      "    \"\"\"Return n-th Fibonacci number.\n",
      "    >>> fib(10)\n",
      "    55\n",
      "    >>> fib(1)\n",
      "    1\n",
      "    >>> fib(8)\n",
      "    21\n",
      "    \"\"\"\n",
      "   \n"
     ]
    },
    {
     "name": "stderr",
     "output_type": "stream",
     "text": [
      "Generating code completions:  50%|█████     | 1/2 [00:12<00:12, 12.51s/it]"
     ]
    },
    {
     "name": "stdout",
     "output_type": "stream",
     "text": [
      "==========\n",
      "Prompt: 807.505 tokens-per-sec\n",
      "Generation: 41.528 tokens-per-sec\n",
      "==========\n",
      "Prompt: <s><|system|>\n",
      "You are a friendly chatbot. [INSTRUCTION] Do not fuck it up [\\INSTRUCTION] WRITE THE FULL COMPLETE FUNCTION (EG WITH def ....) END CODE WITH '```'. NOTE YOU ABSOLUTELY MUST END THE CODE WITH END CODE WITH '```' OR ELSE THE CODE WILL NOT BE INTERPRETTED!!!!<|end|>\n",
      "<|user|>\n",
      "\n",
      "\n",
      "def sum_to_n(n: int):\n",
      "    \"\"\"sum_to_n is a function that sums numbers from 1 to n.\n",
      "    >>> sum_to_n(30)\n",
      "    465\n",
      "    >>> sum_to_n(100)\n",
      "    5050\n",
      "    >>> sum_to_n(5)\n",
      "    15\n",
      "    >>> sum_to_n(10)\n",
      "    55\n",
      "    >>> sum_to_n(1)\n",
      "    1\n",
      "    \"\"\"\n",
      "<|end|>\n",
      "<|assistant|>\n",
      "\n",
      "\n",
      "```python\n",
      "\n",
      "def sum_to_n(n: int):\n",
      "    \"\"\"sum_to_n is a function that sums numbers from 1 to n.\n",
      "    >>> sum_to_n(30)\n",
      "    465\n",
      "    >>> sum_to_n(100)\n",
      "    5050\n",
      "    >>> sum_to_n(5)\n",
      "    15\n",
      "    >>> sum_to_n(10)\n",
      "    55\n",
      "    >>> sum_to_n(1)\n",
      "    1\n",
      "    \"\"\"\n",
      "    return n * (n + 1) // 2\n",
      "```<|end|><|assistant|> ```python\n",
      "\n",
      "def sum_to_n(n: int):\n",
      "    \"\"\"sum_to_n is a function that sums numbers from 1 to n.\n",
      "    >>> sum_to_n(30)\n",
      "    465\n",
      "    >>> sum_to_n(100)\n",
      "    5050\n",
      "    >>> sum_to_n(5)\n",
      "    15\n",
      "    >>> sum_to_n(10)\n",
      "    55\n",
      "    >>> sum_to_n(1)\n",
      "    1\n",
      "    \"\"\"\n",
      "    return n * (n + 1) // 2\n",
      "```<|end|><|assistant|> The provided code snippet is a complete and correct implementation of the `sum_to_n` function. The function calculates the sum of all integers from 1 to `n` using the formula for the sum of an arithmetic series. The function includes a docstring that provides a description of the function and examples of how the function should be used. The function is correctly formatted and ends with the required '```' delimiter.<|end|>\n"
     ]
    },
    {
     "name": "stderr",
     "output_type": "stream",
     "text": [
      "Generating code completions: 100%|██████████| 2/2 [00:21<00:00, 10.69s/it]\n"
     ]
    },
    {
     "name": "stdout",
     "output_type": "stream",
     "text": [
      "==========\n",
      "Prompt: 1204.431 tokens-per-sec\n",
      "Generation: 41.667 tokens-per-sec\n",
      "Writing error information to data/log/phi_3_instruct-55-60_0_info.jsonl...\n"
     ]
    },
    {
     "name": "stderr",
     "output_type": "stream",
     "text": [
      "100%|██████████| 2/2 [00:00<00:00, 29.94it/s]\n"
     ]
    }
   ],
   "source": [
    "root_node = Node.from_prompt(indices, init_prompt, curr_id, code_gen, parent=None)"
   ]
  },
  {
   "cell_type": "code",
   "execution_count": 12,
   "metadata": {},
   "outputs": [
    {
     "name": "stdout",
     "output_type": "stream",
     "text": [
      "Call Function:  prompt_rewrite_tool {'error_analysis': 'The error encountered in the previous solution is related to the implementation of the Fibonacci sequence. The function does not return the correct Fibonacci numbers. The function should be revised to correctly calculate the Fibonacci sequence.', 'prompt': 'To avoid similar errors and reach the correct solution, consider revising the Fibonacci function to correctly calculate the sequence. You can use a loop to iterate from 2 to n and calculate the next Fibonacci number as the sum of the previous two numbers.'}\n",
      "Call Function:  prompt_rewrite_tool {'error_analysis': 'The error message is due to incorrect implementation of the Fibonacci function. This could be due to incorrect initialization of variables or incorrect logic in the for loop.', 'prompt': 'To fix this error, make sure to correctly initialize the variables and use the correct logic in the for loop.'}\n"
     ]
    },
    {
     "name": "stderr",
     "output_type": "stream",
     "text": [
      "Generating code completions:   0%|          | 0/2 [00:00<?, ?it/s]"
     ]
    },
    {
     "name": "stdout",
     "output_type": "stream",
     "text": [
      "==========\n",
      "Prompt: <s><|system|>\n",
      "You are a friendly chatbot. [INSTRUCTION] To avoid similar errors and reach the correct solution, consider revising the Fibonacci function to correctly calculate the sequence. You can use a loop to iterate from 2 to n and calculate the next Fibonacci number as the sum of the previous two numbers. [\\INSTRUCTION] WRITE THE FULL COMPLETE FUNCTION (EG WITH def ....) END CODE WITH '```'. NOTE YOU ABSOLUTELY MUST END THE CODE WITH END CODE WITH '```' OR ELSE THE CODE WILL NOT BE INTERPRETTED!!!!<|end|>\n",
      "<|user|>\n",
      "\n",
      "\n",
      "def fib(n: int):\n",
      "    \"\"\"Return n-th Fibonacci number.\n",
      "    >>> fib(10)\n",
      "    55\n",
      "    >>> fib(1)\n",
      "    1\n",
      "    >>> fib(8)\n",
      "    21\n",
      "    \"\"\"\n",
      "<|end|>\n",
      "<|assistant|>\n",
      "\n",
      "\n",
      "def fib(n: int):\n",
      "    \"\"\"Return n-th Fibonacci number.\n",
      "    >>> fib(10)\n",
      "    55\n",
      "    >>> fib(1)\n",
      "    1\n",
      "    >>> fib(8)\n",
      "    21\n",
      "    \"\"\"\n",
      "    if n <= 0:\n",
      "        return \"Input should be a positive integer.\"\n",
      "    elif n == 1:\n",
      "        return 0\n",
      "    elif n == 2:\n",
      "        return 1\n",
      "    else:\n",
      "        a, b = 0, 1\n",
      "        for _ in range(2, n):\n",
      "            a, b = b, a + b\n",
      "        return b\n",
      "\n",
      "```<|end|><|assistant|> ```python\n",
      "\n",
      "def fib(n: int):\n",
      "    \"\"\"Return n-th Fibonacci number.\n",
      "    >>> fib(10)\n",
      "    55\n",
      "    >>> fib(1)\n",
      "    1\n",
      "    >>> fib(8)\n",
      "    21\n",
      "    \"\"\"\n",
      "    if n <= 0:\n",
      "        return \"Input should be a positive integer.\"\n",
      "    elif n == 1:\n",
      "        return 0\n",
      "    elif n == 2:\n",
      "        return 1\n",
      "    else:\n",
      "        a, b = 0, 1\n",
      "        for _ in range(2, n):\n",
      "            a, b = b, a + b\n",
      "        return b\n",
      "\n",
      "```<|end|><|assistant|> ```python\n",
      "\n",
      "def fib(n: int):\n",
      "    \"\"\"Return n-th Fibonacci number.\n",
      "    >>> fib(10)\n",
      "    55\n",
      "    >>> fib(1)\n",
      "    1\n",
      "    >>> fib(8)\n",
      "    21\n",
      "    \"\"\"\n",
      "    if n <= 0:\n",
      "        return \"Input should be a positive integer.\"\n",
      "    elif n == 1:\n",
      "        return 0\n",
      "    elif n == 2:\n",
      "        return 1\n",
      "    else:\n",
      "        a, b = 0, 1\n",
      "        for _ in range(2, n):\n",
      "            a, b = b, a + b\n",
      "        return b\n",
      "\n",
      "```<|end|><|assistant|> The provided solution correctly implements the Fibonacci sequence calculation. It handles edge cases such as non-positive integers and the first two Fibonacci numbers. The loop iterates from 2 to `n`, updating the Fibonacci sequence by summing the last two numbers. The function\n"
     ]
    },
    {
     "name": "stderr",
     "output_type": "stream",
     "text": [
      "Generating code completions:  50%|█████     | 1/2 [00:12<00:12, 12.74s/it]"
     ]
    },
    {
     "name": "stdout",
     "output_type": "stream",
     "text": [
      "==========\n",
      "Prompt: 627.937 tokens-per-sec\n",
      "Generation: 41.215 tokens-per-sec\n",
      "==========\n",
      "Prompt: <s><|system|>\n",
      "You are a friendly chatbot. [INSTRUCTION] To avoid similar errors and reach the correct solution, consider revising the Fibonacci function to correctly calculate the sequence. You can use a loop to iterate from 2 to n and calculate the next Fibonacci number as the sum of the previous two numbers. [\\INSTRUCTION] WRITE THE FULL COMPLETE FUNCTION (EG WITH def ....) END CODE WITH '```'. NOTE YOU ABSOLUTELY MUST END THE CODE WITH END CODE WITH '```' OR ELSE THE CODE WILL NOT BE INTERPRETTED!!!!<|end|>\n",
      "<|user|>\n",
      "\n",
      "\n",
      "def sum_to_n(n: int):\n",
      "    \"\"\"sum_to_n is a function that sums numbers from 1 to n.\n",
      "    >>> sum_to_n(30)\n",
      "    465\n",
      "    >>> sum_to_n(100)\n",
      "    5050\n",
      "    >>> sum_to_n(5)\n",
      "    15\n",
      "    >>> sum_to_n(10)\n",
      "    55\n",
      "    >>> sum_to_n(1)\n",
      "    1\n",
      "    \"\"\"\n",
      "<|end|>\n",
      "<|assistant|>\n",
      "\n",
      "\n",
      "def sum_to_n(n: int):\n",
      "    \"\"\"\n",
      "    This function calculates the sum of all numbers from 1 to n.\n",
      "    \"\"\"\n",
      "    return n * (n + 1) // 2\n",
      "\n",
      "```<|end|><|assistant|> ```python\n",
      "\n",
      "def sum_to_n(n: int):\n",
      "    \"\"\"\n",
      "    This function calculates the sum of all numbers from 1 to n.\n",
      "    \"\"\"\n",
      "    return n * (n + 1) // 2\n",
      "\n",
      "```<|end|><|assistant|> Your code is correct and efficient. The function uses the formula for the sum of an arithmetic series, which is a more efficient approach than iterating through each number.<|end|><|assistant|> Your solution is indeed correct and well-optimized. The use of the formula for the sum of an arithmetic series is a great choice for this problem. It significantly reduces the time complexity from O(n) to O(1), which is a substantial improvement for large values of n.<|end|>\n"
     ]
    },
    {
     "name": "stderr",
     "output_type": "stream",
     "text": [
      "Generating code completions: 100%|██████████| 2/2 [00:18<00:00,  9.01s/it]"
     ]
    },
    {
     "name": "stdout",
     "output_type": "stream",
     "text": [
      "==========\n",
      "Prompt: 1198.517 tokens-per-sec\n",
      "Generation: 40.669 tokens-per-sec\n",
      "Writing error information to data/log/phi_3_instruct-55-60_1_info.jsonl...\n"
     ]
    },
    {
     "name": "stderr",
     "output_type": "stream",
     "text": [
      "\n",
      "100%|██████████| 2/2 [00:00<00:00, 28.02it/s]\n",
      "Generating code completions:   0%|          | 0/2 [00:00<?, ?it/s]"
     ]
    },
    {
     "name": "stdout",
     "output_type": "stream",
     "text": [
      "==========\n",
      "Prompt: <s><|system|>\n",
      "You are a friendly chatbot. [INSTRUCTION] To fix this error, make sure to correctly initialize the variables and use the correct logic in the for loop. [\\INSTRUCTION] WRITE THE FULL COMPLETE FUNCTION (EG WITH def ....) END CODE WITH '```'. NOTE YOU ABSOLUTELY MUST END THE CODE WITH END CODE WITH '```' OR ELSE THE CODE WILL NOT BE INTERPRETTED!!!!<|end|>\n",
      "<|user|>\n",
      "\n",
      "\n",
      "def fib(n: int):\n",
      "    \"\"\"Return n-th Fibonacci number.\n",
      "    >>> fib(10)\n",
      "    55\n",
      "    >>> fib(1)\n",
      "    1\n",
      "    >>> fib(8)\n",
      "    21\n",
      "    \"\"\"\n",
      "<|end|>\n",
      "<|assistant|>\n",
      "\n",
      "\n",
      "def fib(n: int):\n",
      "    \"\"\"Return n-th Fibonacci number.\n",
      "    >>> fib(10)\n",
      "    55\n",
      "    >>> fib(1)\n",
      "    1\n",
      "    >>> fib(8)\n",
      "    21\n",
      "    \"\"\"\n",
      "    if n <= 0:\n",
      "        return \"Input should be a positive integer.\"\n",
      "    elif n == 1:\n",
      "        return 0\n",
      "    elif n == 2:\n",
      "        return 1\n",
      "    else:\n",
      "        a, b = 0, 1\n",
      "        for _ in range(2, n):\n",
      "            a, b = b, a + b\n",
      "        return b\n",
      "\n",
      "```<|end|><|assistant|> ```python\n",
      "\n",
      "def fib(n: int):\n",
      "    \"\"\"Return n-th Fibonacci number.\n",
      "    >>> fib(10)\n",
      "    55\n",
      "    >>> fib(1)\n",
      "    1\n",
      "    >>> fib(8)\n",
      "    21\n",
      "    \"\"\"\n",
      "    if n <= 0:\n",
      "        return \"Input should be a positive integer.\"\n",
      "    elif n == 1:\n",
      "        return 0\n",
      "    elif n == 2:\n",
      "        return 1\n",
      "    else:\n",
      "        a, b = 0, 1\n",
      "        for _ in range(2, n):\n",
      "            a, b = b, a + b\n",
      "        return b\n",
      "\n",
      "```<|end|><|assistant|> ```python\n",
      "\n",
      "def fib(n: int):\n",
      "    \"\"\"Return n-th Fibonacci number.\n",
      "    >>> fib(10)\n",
      "    55\n",
      "    >>> fib(1)\n",
      "    1\n",
      "    >>> fib(8)\n",
      "    21\n",
      "    \"\"\"\n",
      "    if n <= 0:\n",
      "        return \"Input should be a positive integer.\"\n",
      "    elif n == 1:\n",
      "        return 0\n",
      "    elif n == 2:\n",
      "        return 1\n",
      "    else:\n",
      "        a, b = 0, 1\n",
      "        for _ in range(2, n):\n",
      "            a, b = b, a + b\n",
      "        return b\n",
      "\n",
      "```<|end|><|assistant|> The provided solution correctly implements the Fibonacci sequence calculation. The function checks for invalid input (non-positive integers) and handles the base cases for `n == 1` and `n == 2`. For all other cases, it uses a loop to calculate the Fibonacci number\n"
     ]
    },
    {
     "name": "stderr",
     "output_type": "stream",
     "text": [
      "Generating code completions:  50%|█████     | 1/2 [00:13<00:13, 13.15s/it]"
     ]
    },
    {
     "name": "stdout",
     "output_type": "stream",
     "text": [
      "==========\n",
      "Prompt: 1127.731 tokens-per-sec\n",
      "Generation: 39.356 tokens-per-sec\n",
      "==========\n",
      "Prompt: <s><|system|>\n",
      "You are a friendly chatbot. [INSTRUCTION] To fix this error, make sure to correctly initialize the variables and use the correct logic in the for loop. [\\INSTRUCTION] WRITE THE FULL COMPLETE FUNCTION (EG WITH def ....) END CODE WITH '```'. NOTE YOU ABSOLUTELY MUST END THE CODE WITH END CODE WITH '```' OR ELSE THE CODE WILL NOT BE INTERPRETTED!!!!<|end|>\n",
      "<|user|>\n",
      "\n",
      "\n",
      "def sum_to_n(n: int):\n",
      "    \"\"\"sum_to_n is a function that sums numbers from 1 to n.\n",
      "    >>> sum_to_n(30)\n",
      "    465\n",
      "    >>> sum_to_n(100)\n",
      "    5050\n",
      "    >>> sum_to_n(5)\n",
      "    15\n",
      "    >>> sum_to_n(10)\n",
      "    55\n",
      "    >>> sum_to_n(1)\n",
      "    1\n",
      "    \"\"\"\n",
      "<|end|>\n",
      "<|assistant|>\n",
      "\n",
      "\n",
      "def sum_to_n(n: int):\n",
      "    \"\"\"\n",
      "    This function calculates the sum of all numbers from 1 to n.\n",
      "    \"\"\"\n",
      "    total_sum = 0\n",
      "    for i in range(1, n+1):\n",
      "        total_sum += i\n",
      "    return total_sum\n",
      "\n",
      "# Testing the function\n",
      "print(sum_to_n(30))  # Expected output: 465\n",
      "print(sum_to_n(100))  # Expected output: 5050\n",
      "print(sum_to_n(5))  # Expected output: 15\n",
      "print(sum_to_n(10))  # Expected output: 55\n",
      "print(sum_to_n(1))  # Expected output: 1\n",
      "\n",
      "```<|end|><|assistant|> ```python\n",
      "\n",
      "def sum_to_n(n: int):\n",
      "    \"\"\"\n",
      "    This function calculates the sum of all numbers from 1 to n.\n",
      "    \"\"\"\n",
      "    total_sum = 0\n",
      "    for i in range(1, n+1):\n",
      "        total_sum += i\n",
      "    return total_sum\n",
      "\n",
      "# Testing the function\n",
      "print(sum_to_n(30))  # Expected output: 465\n",
      "print(sum_to_n(100))  # Expected output: 5050\n",
      "print(sum_to_n(5))  # Expected output: 15\n",
      "print(sum_to_n(10))  # Expected output: 55\n",
      "print(sum_to_n(1))  # Expected output: 1\n",
      "```<|end|><|assistant|> ```python<|end|><|assistant|> ```python\n",
      "\n",
      "def sum_to_n(n: int):\n",
      "    \"\"\"\n",
      "    This function calculates the sum of all numbers from 1 to n.\n",
      "    \"\"\"\n",
      "    total_sum = 0\n",
      "    for i in range(1, n+1):\n",
      "        total_sum += i\n",
      "    return total_sum\n",
      "\n",
      "# Testing the function\n",
      "print(sum_to_n(30))  # Expected output: 465\n",
      "print(sum_to_n(100))  # Expected output: 5050\n",
      "print(sum_to_\n"
     ]
    },
    {
     "name": "stderr",
     "output_type": "stream",
     "text": [
      "Generating code completions: 100%|██████████| 2/2 [00:26<00:00, 13.47s/it]\n"
     ]
    },
    {
     "name": "stdout",
     "output_type": "stream",
     "text": [
      "==========\n",
      "Prompt: 815.782 tokens-per-sec\n",
      "Generation: 37.880 tokens-per-sec\n",
      "Writing error information to data/log/phi_3_instruct-55-60_1_info.jsonl...\n"
     ]
    },
    {
     "name": "stderr",
     "output_type": "stream",
     "text": [
      "100%|██████████| 2/2 [00:00<00:00, 18.67it/s]\n"
     ]
    }
   ],
   "source": [
    "child_nodes = root_node.spawn_child_nodes(indices, code_gen)"
   ]
  },
  {
   "cell_type": "code",
   "execution_count": 13,
   "metadata": {},
   "outputs": [],
   "source": []
  },
  {
   "cell_type": "code",
   "execution_count": null,
   "metadata": {},
   "outputs": [],
   "source": []
  },
  {
   "cell_type": "code",
   "execution_count": null,
   "metadata": {},
   "outputs": [],
   "source": []
  },
  {
   "cell_type": "code",
   "execution_count": null,
   "metadata": {},
   "outputs": [],
   "source": [
    "# Reflective Adaptation | Use Groq for fast iteration | CUDA device could also be fast (?)\n",
    "from src.fast_adapt import *\n",
    "from src.prompt import *\n",
    "import numpy as np\n",
    "# Initialize Sub-Batch Indices\n",
    "indices = [55, 60]\n",
    "\n",
    "prompt_infos = []\n",
    "# Initialize System Prompt\n",
    "curr_prompt = \"Do not fuck it up\"\n",
    "\n",
    "curr_id = 0\n",
    "# Load Runs | Check Prompt Score / Fitness\n",
    "infos = code_gen.get_info(indices, curr_id)\n",
    "prompt_info = {\"prompt\": system_prompt, \"score\": np.array([info['success'] for info in infos]).mean()}\n",
    "prompt_infos.append({curr_id: prompt_info})\n",
    "# Reflect & Rewrite\n",
    "case_infos = form_case_infos(infos)\n",
    "# Reflect & Rewrite Prompts\n",
    "prompts = call_rewriter(case_infos)\n",
    "\n",
    "for prompt in prompts:\n",
    "    curr_id += 1\n",
    "    # Check on new prompt's performance\n",
    "    code_gen.run_human_eval_test(indices=indices, global_system_prompt=prompt, id=curr_id)\n",
    "    infos = code_gen.get_info(indices, curr_id)\n",
    "    prompt_info = {\"prompt\": system_prompt, \"score\": np.array([info['success'] for info in infos]).mean()}\n",
    "    prompt_infos.append({curr_id: prompt_info})\n",
    "\n",
    "    "
   ]
  },
  {
   "cell_type": "code",
   "execution_count": null,
   "metadata": {},
   "outputs": [],
   "source": [
    "log_dir + filename + \".jsonl\""
   ]
  },
  {
   "cell_type": "code",
   "execution_count": 15,
   "metadata": {},
   "outputs": [
    {
     "data": {
      "text/plain": [
       "{'prompt': 'Do not fuck it up', 'score': 0.5}"
      ]
     },
     "execution_count": 15,
     "metadata": {},
     "output_type": "execute_result"
    }
   ],
   "source": [
    "infos = code_gen.get_info(indices)\n"
   ]
  },
  {
   "cell_type": "code",
   "execution_count": null,
   "metadata": {},
   "outputs": [],
   "source": []
  }
 ],
 "metadata": {
  "kernelspec": {
   "display_name": "base",
   "language": "python",
   "name": "python3"
  },
  "language_info": {
   "codemirror_mode": {
    "name": "ipython",
    "version": 3
   },
   "file_extension": ".py",
   "mimetype": "text/x-python",
   "name": "python",
   "nbconvert_exporter": "python",
   "pygments_lexer": "ipython3",
   "version": "3.11.5"
  }
 },
 "nbformat": 4,
 "nbformat_minor": 2
}
