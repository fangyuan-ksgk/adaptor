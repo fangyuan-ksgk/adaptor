{
 "cells": [
  {
   "cell_type": "markdown",
   "metadata": {},
   "source": [
    "                        llama3-8b  pass@1: 0.38 | phi3 pass@1: 0.60  [HumanEval]"
   ]
  },
  {
   "cell_type": "code",
   "execution_count": 1,
   "metadata": {},
   "outputs": [
    {
     "data": {
      "application/vnd.jupyter.widget-view+json": {
       "model_id": "dd59b53ccb78417bb6eeaa157fd304dc",
       "version_major": 2,
       "version_minor": 0
      },
      "text/plain": [
       "Fetching 13 files:   0%|          | 0/13 [00:00<?, ?it/s]"
      ]
     },
     "metadata": {},
     "output_type": "display_data"
    },
    {
     "name": "stdout",
     "output_type": "stream",
     "text": [
      "[WARNING] rope_scaling 'type' currently only supports 'linear' setting rope scaling to false.\n"
     ]
    },
    {
     "name": "stderr",
     "output_type": "stream",
     "text": [
      "Special tokens have been added in the vocabulary, make sure the associated word embeddings are fine-tuned or trained.\n"
     ]
    }
   ],
   "source": [
    "from data import CodeCompletionGenerator, load_config\n",
    "from human_eval.data import write_jsonl, read_problems\n",
    "from tqdm import tqdm as tqdm\n",
    "\n",
    "\n",
    "config_name = \"phi_3_instruct\"\n",
    "code_gen = CodeCompletionGenerator.from_config(config_name, device=\"mps\")\n",
    "\n",
    "# Get the error message on sub-batch and do fast adaptation \n",
    "system_prompt = \"Do not fuck it up\"\n",
    "# Run Inference on HumanEval | Generate -> GetError -> SaveErro\n",
    "# code_gen.run_human_eval_test(indices=indices, global_system_prompt=system_prompt)\n"
   ]
  },
  {
   "cell_type": "markdown",
   "metadata": {},
   "source": [
    "#### Fast Adaptation || Monte Carlo Tree Search || Case Study (What is an effective way of improving codeing capacity ?)"
   ]
  },
  {
   "cell_type": "code",
   "execution_count": 2,
   "metadata": {},
   "outputs": [
    {
     "name": "stderr",
     "output_type": "stream",
     "text": [
      "Generating code completions:   0%|          | 0/2 [00:00<?, ?it/s]"
     ]
    },
    {
     "name": "stdout",
     "output_type": "stream",
     "text": [
      "==========\n",
      "Prompt: <s><|system|>\n",
      "You are a friendly chatbot. [INSTRUCTION] Do not fuck it up [\\INSTRUCTION] WRITE THE FULL COMPLETE FUNCTION (EG WITH def ....) END CODE WITH '```'. NOTE YOU ABSOLUTELY MUST END THE CODE WITH END CODE WITH '```' OR ELSE THE CODE WILL NOT BE INTERPRETTED!!!!<|end|>\n",
      "<|user|>\n",
      "\n",
      "\n",
      "def fib(n: int):\n",
      "    \"\"\"Return n-th Fibonacci number.\n",
      "    >>> fib(10)\n",
      "    55\n",
      "    >>> fib(1)\n",
      "    1\n",
      "    >>> fib(8)\n",
      "    21\n",
      "    \"\"\"\n",
      "<|end|>\n",
      "<|assistant|>\n",
      "\n",
      "\n",
      "def fib(n: int):\n",
      "    \"\"\"Return n-th Fibonacci number.\n",
      "    >>> fib(10)\n",
      "    55\n",
      "    >>> fib(1)\n",
      "    1\n",
      "    >>> fib(8)\n",
      "    21\n",
      "    \"\"\"\n",
      "    if n <= 0:\n",
      "        return \"Input should be positive integer.\"\n",
      "    elif n == 1:\n",
      "        return 0\n",
      "    elif n == 2:\n",
      "        return 1\n",
      "    else:\n",
      "        a, b = 0, 1\n",
      "        for _ in range(2, n):\n",
      "            a, b = b, a + b\n",
      "        return b\n",
      "\n",
      "```<|end|><|assistant|> ```<|end|><|assistant|> def fib(n: int):\n",
      "    \"\"\"Return n-th Fibonacci number.\n",
      "    >>> fib(10)\n",
      "    55\n",
      "    >>> fib(1)\n",
      "    1\n",
      "    >>> fib(8)\n",
      "    21\n",
      "    \"\"\"\n",
      "    if n <= 0:\n",
      "        return \"Input should be positive integer.\"\n",
      "    elif n == 1:\n",
      "        return 0\n",
      "    elif n == 2:\n",
      "        return 1\n",
      "    else:\n",
      "        a, b = 0, 1\n",
      "        for _ in range(2, n):\n",
      "            a, b = b, a + b\n",
      "        return b\n",
      "```<|end|>\n"
     ]
    },
    {
     "name": "stderr",
     "output_type": "stream",
     "text": [
      "Generating code completions:  50%|█████     | 1/2 [00:07<00:07,  7.34s/it]"
     ]
    },
    {
     "name": "stdout",
     "output_type": "stream",
     "text": [
      "==========\n",
      "Prompt: 793.102 tokens-per-sec\n",
      "Generation: 41.270 tokens-per-sec\n",
      "==========\n",
      "Prompt: <s><|system|>\n",
      "You are a friendly chatbot. [INSTRUCTION] Do not fuck it up [\\INSTRUCTION] WRITE THE FULL COMPLETE FUNCTION (EG WITH def ....) END CODE WITH '```'. NOTE YOU ABSOLUTELY MUST END THE CODE WITH END CODE WITH '```' OR ELSE THE CODE WILL NOT BE INTERPRETTED!!!!<|end|>\n",
      "<|user|>\n",
      "\n",
      "\n",
      "def sum_to_n(n: int):\n",
      "    \"\"\"sum_to_n is a function that sums numbers from 1 to n.\n",
      "    >>> sum_to_n(30)\n",
      "    465\n",
      "    >>> sum_to_n(100)\n",
      "    5050\n",
      "    >>> sum_to_n(5)\n",
      "    15\n",
      "    >>> sum_to_n(10)\n",
      "    55\n",
      "    >>> sum_to_n(1)\n",
      "    1\n",
      "    \"\"\"\n",
      "<|end|>\n",
      "<|assistant|>\n",
      "\n",
      "\n",
      "```python\n",
      "\n",
      "def sum_to_n(n: int):\n",
      "    \"\"\"sum_to_n is a function that sums numbers from 1 to n.\n",
      "    >>> sum_to_n(30)\n",
      "    465\n",
      "    >>> sum_to_n(100)\n",
      "    5050\n",
      "    >>> sum_to_n(5)\n",
      "    15\n",
      "    >>> sum_to_n(10)\n",
      "    55\n",
      "    >>> sum_to_n(1)\n",
      "    1\n",
      "    \"\"\"\n",
      "    return sum(range(1, n + 1))\n",
      "\n",
      "```<|end|><|assistant|> ```python\n",
      "\n",
      "def sum_to_n(n: int):\n",
      "    \"\"\"sum_to_n is a function that sums numbers from 1 to n.\n",
      "    >>> sum_to_n(30)\n",
      "    465\n",
      "    >>> sum_to_n(100)\n",
      "    5050\n",
      "    >>> sum_to_n(5)\n",
      "    15\n",
      "    >>> sum_to_n(10)\n",
      "    55\n",
      "    >>> sum_to_n(1)\n",
      "    1\n",
      "    \"\"\"\n",
      "    return sum(range(1, n + 1))\n",
      "\n",
      "```<|end|><|assistant|> ```python<|end|><|assistant|> ```python\n",
      "\n",
      "def sum_to_n(n: int):\n",
      "    \"\"\"\n",
      "    Calculates the sum of all integers from 1 to n.\n",
      "    \n",
      "    Parameters:\n",
      "    - n: An integer representing the upper limit of the range.\n",
      "    \n",
      "    Returns:\n",
      "    - An integer representing the sum of all integers from 1 to n.\n",
      "    \n",
      "    Example:\n",
      "    >>> sum_to_n(5)\n",
      "    15\n",
      "    \"\"\"\n",
      "    return sum(range(1, n + 1))\n",
      "\n",
      "```<|end|><|assistant|> The provided code snippet defines a Python function named `sum_to_n`. This function calculates the sum of all integers from 1 up to and including the integer `n`.\n",
      "\n",
      "The function uses the built-in `sum` function combined with the `range` function to generate a sequence of numbers from 1 to `n`. The `range` function is used with a start value of 1 and an end value of `n + 1` to ensure that `n` itself is included in the sum.\n",
      "\n",
      "\n"
     ]
    },
    {
     "name": "stderr",
     "output_type": "stream",
     "text": [
      "Generating code completions: 100%|██████████| 2/2 [00:20<00:00, 10.17s/it]\n"
     ]
    },
    {
     "name": "stdout",
     "output_type": "stream",
     "text": [
      "==========\n",
      "Prompt: 1212.438 tokens-per-sec\n",
      "Generation: 39.886 tokens-per-sec\n",
      "Writing error information to data/log/phi_3_instruct-55-60_4527_info.jsonl...\n"
     ]
    },
    {
     "name": "stderr",
     "output_type": "stream",
     "text": [
      "100%|██████████| 2/2 [00:00<00:00, 24.28it/s]\n"
     ]
    }
   ],
   "source": [
    "# Case Study Here\n",
    "from src.fast_adapt import *\n",
    "from src.prompt import *\n",
    "import numpy as np\n",
    "\n",
    "indices = [55] # Pin-down this Fibonacci sequence calculation issue and solve the case study\n",
    "init_prompt = \"Do not fuck it up\"\n",
    "id = 4527\n",
    "node = Node.from_prompt(indices, init_prompt, id, code_gen)"
   ]
  },
  {
   "cell_type": "code",
   "execution_count": 11,
   "metadata": {},
   "outputs": [],
   "source": [
    "# Monte Carlo Tree Search\n"
   ]
  },
  {
   "cell_type": "code",
   "execution_count": 10,
   "metadata": {},
   "outputs": [
    {
     "data": {
      "text/plain": [
       "'Here are the key takeaways from this error:\\n\\n1. **Understand the problem requirements**: Make sure you understand the problem description and what the expected output is.\\n\\n2. **Check the base cases**: Pay close attention to the base cases (e.g., `n == 1`, `n == 2`) as these are often where errors occur.\\n\\n3. **Test your code thoroughly**: Write test cases to ensure your function is working correctly.\\n\\n4. **Be careful with assumptions**: Make sure your assumptions about the problem and your code are correct.\\n\\n5. **Learn from your mistakes**: When you find the error, try to understand why it was occurring and how you can avoid similar errors in the future.\\n\\nIn this case, the key takeaway is to double-check the base cases and make sure they are correct. The error was caused by mistakenly returning 0 for `n == 1` and 1 for `n == 2`, which is the opposite of what it should be.\\n\\nBy learning from this mistake, you can avoid similar errors in the future by being more careful with the base cases and testing your code thoroughly.'"
      ]
     },
     "execution_count": 10,
     "metadata": {},
     "output_type": "execute_result"
    }
   ],
   "source": [
    "child_node.prompt"
   ]
  },
  {
   "cell_type": "code",
   "execution_count": 2,
   "metadata": {},
   "outputs": [
    {
     "name": "stderr",
     "output_type": "stream",
     "text": [
      "MCTS Search Batches:   0%|          | 0/60 [00:00<?, ?it/s]"
     ]
    },
    {
     "name": "stdout",
     "output_type": "stream",
     "text": [
      "==========\n",
      "Prompt: <s><|system|>\n",
      "You are a friendly chatbot. [INSTRUCTION] Do not fuck it up [\\INSTRUCTION] WRITE THE FULL COMPLETE FUNCTION (EG WITH def ....) END CODE WITH '```'. NOTE YOU ABSOLUTELY MUST END THE CODE WITH END CODE WITH '```' OR ELSE THE CODE WILL NOT BE INTERPRETTED!!!!<|end|>\n",
      "<|user|>\n",
      "from typing import List\n",
      "\n",
      "\n",
      "def has_close_elements(numbers: List[float], threshold: float) -> bool:\n",
      "    \"\"\" Check if in given list of numbers, are any two numbers closer to each other than\n",
      "    given threshold.\n",
      "    >>> has_close_elements([1.0, 2.0, 3.0], 0.5)\n",
      "    False\n",
      "    >>> has_close_elements([1.0, 2.8, 3.0, 4.0, 5.0, 2.0], 0.3)\n",
      "    True\n",
      "    \"\"\"\n",
      "<|end|>\n",
      "<|assistant|>\n",
      "\n",
      "def has_close_elements(numbers: List[float], threshold: float) -> bool:\n",
      "    \"\"\" Check if in given list of numbers, are any two numbers closer to each other than\n",
      "    given threshold.\n",
      "    >>> has_close_elements([1.0, 2.0, 3.0], 0.5)\n",
      "    False\n",
      "    >>> has_close_elements([1.0, 2.8, 3.0, 4.0, 5.0, 2.0], 0.3)\n",
      "    True\n",
      "    \"\"\"\n",
      "    for i in range(len(numbers)):\n",
      "        for j in range(i+1, len(numbers)):\n",
      "            if abs(numbers[i] - numbers[j]) < threshold:\n",
      "                return True\n",
      "    return False<|end|><|assistant|> ```python\n",
      "from typing import List\n",
      "\n",
      "def has_close_elements(numbers: List[float], threshold: float) -> bool:\n",
      "    \"\"\" Check if in given list of numbers, are any two numbers closer to each other than\n",
      "    given threshold.\n",
      "    >>> has_close_elements([1.0, 2.0, 3.0], 0.5)\n",
      "    False\n",
      "    >>> has_close_elements([1.0, 2.8, 3.0, 4.0, 5.0, 2.0], 0.3)\n",
      "    True\n",
      "    \"\"\"\n",
      "    for i in range(len(numbers)):\n",
      "        for j in range(i+1, len(numbers)):\n",
      "            if abs(numbers[i] - numbers[j]) < threshold:\n",
      "                return True\n",
      "    return False\n",
      "```<|end|>\n"
     ]
    },
    {
     "name": "stderr",
     "output_type": "stream",
     "text": []
    },
    {
     "name": "stdout",
     "output_type": "stream",
     "text": [
      "==========\n",
      "Prompt: 1253.196 tokens-per-sec\n",
      "Generation: 40.615 tokens-per-sec\n",
      "==========\n",
      "Prompt: <s><|system|>\n",
      "You are a friendly chatbot. [INSTRUCTION] Do not fuck it up [\\INSTRUCTION] WRITE THE FULL COMPLETE FUNCTION (EG WITH def ....) END CODE WITH '```'. NOTE YOU ABSOLUTELY MUST END THE CODE WITH END CODE WITH '```' OR ELSE THE CODE WILL NOT BE INTERPRETTED!!!!<|end|>\n",
      "<|user|>\n",
      "from typing import List\n",
      "\n",
      "\n",
      "def separate_paren_groups(paren_string: str) -> List[str]:\n",
      "    \"\"\" Input to this function is a string containing multiple groups of nested parentheses. Your goal is to\n",
      "    separate those group into separate strings and return the list of those.\n",
      "    Separate groups are balanced (each open brace is properly closed) and not nested within each other\n",
      "    Ignore any spaces in the input string.\n",
      "    >>> separate_paren_groups('( ) (( )) (( )( ))')\n",
      "    ['()', '(())', '(()())']\n",
      "    \"\"\"\n",
      "<|end|>\n",
      "<|assistant|>\n",
      "\n",
      "from typing import List\n",
      "\n",
      "def separate_paren_groups(paren_string: str) -> List[str]:\n",
      "    # Remove spaces from the input string\n",
      "    paren_string = paren_string.replace(\" \", \"\")\n",
      "\n",
      "    # Initialize an empty list to store the separated groups\n",
      "    separated_groups = []\n",
      "\n",
      "    # Initialize a stack to keep track of the current group\n",
      "    stack = []\n",
      "\n",
      "    # Initialize a variable to keep track of the current group\n",
      "    current_group = \"\"\n",
      "\n",
      "    # Loop through each character in the input string\n",
      "    for char in paren_string:\n",
      "        # If the character is an opening parenthesis, push it to the stack and start a new group\n",
      "        if char == \"(\":\n",
      "            stack.append(char)\n",
      "            current_group = \"\"\n",
      "\n",
      "        # If the character is a closing parenthesis, pop the last opening parenthesis from the stack and append it to the current group\n",
      "        elif char == \")\":\n",
      "            if stack:\n",
      "                last_open = stack.pop()\n",
      "                current_group += last_open\n",
      "\n",
      "        # If the character is neither an opening nor a closing parenthesis, append it to the current group\n",
      "        else:\n",
      "            current_group += char\n",
      "\n",
      "        # If the current group is not empty and is not the first group, append it to the separated groups list\n",
      "        if current_group and current_group != separated_groups[0]:\n",
      "            separated_groups.append(current_group)\n",
      "\n",
      "    # Return the separated groups list\n",
      "    return separated_groups<|end|><|assistant|> ```python\n",
      "from typing import List\n",
      "\n",
      "def separate_paren_groups(paren_string: str) -> List[str]:\n",
      "    # Remove spaces from the input string\n",
      "    paren_string = paren_string.replace(\" \", \"\")\n",
      "\n",
      "    # Initialize an empty list to store the separated groups\n",
      "    separated_groups = []\n",
      "\n",
      "    # Initialize a stack to keep track of the current group\n",
      "    stack = []\n",
      "\n",
      "    # Initialize a variable to keep track of the current group\n",
      "    current_group = \"\"\n",
      "\n",
      "    # Loop through each character in the input string\n",
      "    for char in paren_string:\n",
      "        # If the character is an opening parenthesis, push it to the stack and start a new group\n",
      "        if char == \"\n"
     ]
    },
    {
     "name": "stderr",
     "output_type": "stream",
     "text": []
    },
    {
     "name": "stdout",
     "output_type": "stream",
     "text": [
      "==========\n",
      "Prompt: 1198.718 tokens-per-sec\n",
      "Generation: 40.083 tokens-per-sec\n",
      "==========\n",
      "Prompt: <s><|system|>\n",
      "You are a friendly chatbot. [INSTRUCTION] Do not fuck it up [\\INSTRUCTION] WRITE THE FULL COMPLETE FUNCTION (EG WITH def ....) END CODE WITH '```'. NOTE YOU ABSOLUTELY MUST END THE CODE WITH END CODE WITH '```' OR ELSE THE CODE WILL NOT BE INTERPRETTED!!!!<|end|>\n",
      "<|user|>\n",
      "\n",
      "\n",
      "def truncate_number(number: float) -> float:\n",
      "    \"\"\" Given a positive floating point number, it can be decomposed into\n",
      "    and integer part (largest integer smaller than given number) and decimals\n",
      "    (leftover part always smaller than 1).\n",
      "\n",
      "    Return the decimal part of the number.\n",
      "    >>> truncate_number(3.5)\n",
      "    0.5\n",
      "    \"\"\"\n",
      "<|end|>\n",
      "<|assistant|>\n",
      "\n",
      "\n",
      "def truncate_number(number: float) -> float:\n",
      "    \"\"\" Given a positive floating point number, it can be decomposed into\n",
      "    and integer part (largest integer smaller than given number) and decimals\n",
      "    (leftover part always smaller than 1).\n",
      "\n",
      "    Return the decimal part of the number.\n",
      "    >>> truncate_number(3.5)\n",
      "    0.5\n",
      "    \"\"\"\n",
      "    return number - int(number)<|end|><|assistant|> ```python\n",
      "\n",
      "def truncate_number(number: float) -> float:\n",
      "    \"\"\" Given a positive floating point number, it can be decomposed into\n",
      "    and integer part (largest integer smaller than given number) and decimals\n",
      "    (leftover part always smaller than 1).\n",
      "\n",
      "    Return the decimal part of the number.\n",
      "    >>> truncate_number(3.5)\n",
      "    0.5\n",
      "    \"\"\"\n",
      "    return number - int(number)\n",
      "```<|end|>\n"
     ]
    },
    {
     "name": "stderr",
     "output_type": "stream",
     "text": [
      "Generating code completions: 100%|██████████| 3/3 [00:27<00:00,  9.15s/it]\n"
     ]
    },
    {
     "name": "stdout",
     "output_type": "stream",
     "text": [
      "==========\n",
      "Prompt: 998.294 tokens-per-sec\n",
      "Generation: 41.280 tokens-per-sec\n",
      "Writing error information to data/log/phi_3_instruct-0-1-2_0_info.jsonl...\n"
     ]
    },
    {
     "name": "stderr",
     "output_type": "stream",
     "text": [
      "100%|██████████| 3/3 [00:00<00:00, 25.26it/s]\n"
     ]
    },
    {
     "ename": "AttributeError",
     "evalue": "'MCTS' object has no attribute 'root_node'",
     "output_type": "error",
     "traceback": [
      "\u001b[0;31m---------------------------------------------------------------------------\u001b[0m",
      "\u001b[0;31mAttributeError\u001b[0m                            Traceback (most recent call last)",
      "Cell \u001b[0;32mIn[2], line 16\u001b[0m\n\u001b[1;32m     14\u001b[0m \u001b[38;5;66;03m# Initialize the MCTS object\u001b[39;00m\n\u001b[1;32m     15\u001b[0m mcts \u001b[38;5;241m=\u001b[39m MCTS(init_prompt, \u001b[38;5;241m0\u001b[39m, indices, code_gen, max_search\u001b[38;5;241m=\u001b[39mmax_search)\n\u001b[0;32m---> 16\u001b[0m mcts\u001b[38;5;241m.\u001b[39mroot_node\u001b[38;5;241m.\u001b[39mspawn_child_nodes()\n",
      "\u001b[0;31mAttributeError\u001b[0m: 'MCTS' object has no attribute 'root_node'"
     ]
    }
   ],
   "source": [
    "# Reflective Adaptation | Use Groq for fast iteration | CUDA device could also be fast (?)\n",
    "from src.fast_adapt import *\n",
    "from src.prompt import *\n",
    "import numpy as np\n",
    "\n",
    "batches = [indices.tolist() for indices in np.array_split(list(range(162)), 60)]\n",
    "max_search = 30\n",
    "pb = tqdm(total=len(batches), desc=\"MCTS Search Batches\")\n",
    "for i, indices in enumerate(batches):\n",
    "    pb.desc = \"MCTS Search Batches: %d/%d\" % (i + 1, len(batches))\n",
    "    # Initialize Sub-Batch Indices\n",
    "    init_prompt = \"Do not fuck it up\"\n",
    "    # Initialize the MCTS object\n",
    "    mcts = MCTS(init_prompt, 0, indices, code_gen, max_search=max_search)\n",
    "\n",
    "    # Run the search loop\n",
    "    while not mcts.is_search_complete():\n",
    "        node_to_expand = mcts.select_node()\n",
    "        mcts.expand_node(node_to_expand)\n",
    "        pb.update(1)\n",
    "    pb.n = max_search * (i + 1)\n",
    "    # Retrieve the best prompt after the search is complete\n",
    "    best_prompt = mcts.get_best_prompt()\n",
    "    print(\"Best Prompt on Batch %d: %s\" % (i, best_prompt))\n",
    "    mcts.save_best_node()\n",
    "    # break"
   ]
  },
  {
   "cell_type": "code",
   "execution_count": null,
   "metadata": {},
   "outputs": [],
   "source": []
  }
 ],
 "metadata": {
  "kernelspec": {
   "display_name": "base",
   "language": "python",
   "name": "python3"
  },
  "language_info": {
   "codemirror_mode": {
    "name": "ipython",
    "version": 3
   },
   "file_extension": ".py",
   "mimetype": "text/x-python",
   "name": "python",
   "nbconvert_exporter": "python",
   "pygments_lexer": "ipython3",
   "version": "3.11.5"
  }
 },
 "nbformat": 4,
 "nbformat_minor": 2
}
