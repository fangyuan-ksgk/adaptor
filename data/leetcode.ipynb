{
 "cells": [
  {
   "cell_type": "markdown",
   "metadata": {},
   "source": [
    "#### Attempt to include LeetCode Problems as HumanEval Tasks\n"
   ]
  },
  {
   "cell_type": "code",
   "execution_count": null,
   "metadata": {},
   "outputs": [],
   "source": [
    "from datasets import load_dataset\n",
    "from leetcode import * \n",
    "\n",
    "dataset = load_dataset(\"greengerong/leetcode\")\n",
    "code = dataset['train'][0]['python']\n",
    "leetcode_dataset = dataset[\"train\"]\n",
    "lc_data = leetcode_dataset[0]\n",
    "lc_data\n",
    "# prompt (definition & description)\n",
    "# entry_point (function name)\n",
    "# canocical_solution: GT function definition\n",
    "# test: check for function test cases\n",
    "function, entry_point, header, function_content = extract_function_info(lc_data[\"python\"])\n",
    "content = lc_data['content']"
   ]
  }
 ],
 "metadata": {
  "language_info": {
   "name": "python"
  }
 },
 "nbformat": 4,
 "nbformat_minor": 2
}
