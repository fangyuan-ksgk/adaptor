{
 "cells": [
  {
   "cell_type": "markdown",
   "metadata": {},
   "source": [
    "#### (I). Inference with Phi-3 on 163 HumanEval cases\n",
    "* Error / Success with Message information included"
   ]
  },
  {
   "cell_type": "code",
   "execution_count": 1,
   "metadata": {},
   "outputs": [
    {
     "name": "stderr",
     "output_type": "stream",
     "text": [
      "`flash-attention` package not found, consider installing for better performance: No module named 'flash_attn'.\n",
      "Current `flash-attenton` does not support `window_size`. Either upgrade or use `attn_implementation='eager'`.\n"
     ]
    },
    {
     "data": {
      "application/vnd.jupyter.widget-view+json": {
       "model_id": "2c0433fe51e946669d9bf081c7902742",
       "version_major": 2,
       "version_minor": 0
      },
      "text/plain": [
       "Loading checkpoint shards:   0%|          | 0/2 [00:00<?, ?it/s]"
      ]
     },
     "metadata": {},
     "output_type": "display_data"
    },
    {
     "name": "stderr",
     "output_type": "stream",
     "text": [
      "Special tokens have been added in the vocabulary, make sure the associated word embeddings are fine-tuned or trained.\n",
      "  0%|          | 0/1 [00:00<?, ?it/s]You are not running the flash-attention implementation, expect numerical differences.\n",
      "100%|██████████| 1/1 [00:35<00:00, 35.30s/it]\n"
     ]
    }
   ],
   "source": [
    "from sample_hf import CodeCompletionGenerator\n",
    "from human_eval.data import write_jsonl, read_problems\n",
    "from tqdm import tqdm\n",
    "\n",
    "model_name = \"microsoft/Phi-3-mini-128k-instruct\"\n",
    "# model_name=\"meta-llama/Meta-Llama-3-8B\"\n",
    "is_instruct = True\n",
    "file_name = \"eval_phi_3_instruct\"\n",
    "\n",
    "code_gen = CodeCompletionGenerator(model_name=model_name, device=\"cpu\", is_instruct=is_instruct)\n",
    "\n",
    "problems = read_problems()\n",
    "problems = {k: problems[k] for k in list(problems.keys())[:1]} # SubSample Problems out of the 163 cases\n",
    "\n",
    "\n",
    "num_samples_per_task = 1\n",
    "samples = [\n",
    "    dict(task_id=task_id, completion=code_gen.generate_one_completion(problems[task_id][\"prompt\"]))\n",
    "    for task_id in problems\n",
    "    for _ in tqdm(range(num_samples_per_task))\n",
    "]\n",
    "write_jsonl(f\"{file_name}.jsonl\", samples)"
   ]
  },
  {
   "cell_type": "code",
   "execution_count": 2,
   "metadata": {},
   "outputs": [
    {
     "name": "stdout",
     "output_type": "stream",
     "text": [
      "Success:  True  || Message:  \n"
     ]
    }
   ],
   "source": [
    "from human_eval.data import stream_jsonl\n",
    "from sample_hf import check_code\n",
    "\n",
    "sample_file = f\"{file_name}.jsonl\"\n",
    "for sample in stream_jsonl(sample_file): # This is a generator\n",
    "    task_id = sample['task_id']\n",
    "    problem = problems[task_id]\n",
    "    success, message = check_code(task_id, problem, sample['completion'])\n",
    "    print(\"Success: \", success, \" || Message: \", message)\n"
   ]
  }
 ],
 "metadata": {
  "kernelspec": {
   "display_name": "base",
   "language": "python",
   "name": "python3"
  },
  "language_info": {
   "codemirror_mode": {
    "name": "ipython",
    "version": 3
   },
   "file_extension": ".py",
   "mimetype": "text/x-python",
   "name": "python",
   "nbconvert_exporter": "python",
   "pygments_lexer": "ipython3",
   "version": "3.11.5"
  }
 },
 "nbformat": 4,
 "nbformat_minor": 2
}
