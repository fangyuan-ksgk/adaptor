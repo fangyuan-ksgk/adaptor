{
 "cells": [
  {
   "cell_type": "code",
   "execution_count": 1,
   "metadata": {},
   "outputs": [
    {
     "data": {
      "application/vnd.jupyter.widget-view+json": {
       "model_id": "0bebb25234f344fc9f4efe6af6bf9de1",
       "version_major": 2,
       "version_minor": 0
      },
      "text/plain": [
       "Loading checkpoint shards:   0%|          | 0/4 [00:00<?, ?it/s]"
      ]
     },
     "metadata": {},
     "output_type": "display_data"
    },
    {
     "name": "stderr",
     "output_type": "stream",
     "text": [
      "Special tokens have been added in the vocabulary, make sure the associated word embeddings are fine-tuned or trained.\n"
     ]
    }
   ],
   "source": [
    "# If we can train a small LLM to incorporates incorporates more error message in HumanEval, that gives us a great stepping stone\n",
    "# The key with human eval success, is essentially a bunch of trial & error, and incorporating that error message back to oneself.\n",
    "# Coding is always an iterative process, nothing is ever one-shot, unless you have super savy experience in the field.\n",
    "from sample_hf import CodeCompletionGenerator\n",
    "from human_eval.data import write_jsonl, read_problems\n",
    "from tqdm import tqdm\n",
    "\n",
    "code_gen = CodeCompletionGenerator(model_name=\"meta-llama/Meta-Llama-3-8B\", device=\"cpu\", is_instruct=False)\n",
    "\n",
    "problems = read_problems()\n",
    "# problems\n",
    "# sub_problems = {k: problems[k] for k in list(problems.keys())[:5]}\n",
    "\n",
    "num_samples_per_task = 3\n",
    "samples = [\n",
    "    dict(task_id=task_id, completion=code_gen.generate_one_completion(problems[task_id][\"prompt\"]))\n",
    "    for task_id in problems\n",
    "    for _ in tqdm(range(num_samples_per_task))\n",
    "]\n",
    "write_jsonl(\"eval_llama3_8b.jsonl\", samples)"
   ]
  },
  {
   "cell_type": "code",
   "execution_count": 1,
   "metadata": {},
   "outputs": [
    {
     "name": "stdout",
     "output_type": "stream",
     "text": [
      "Reading samples...\n"
     ]
    },
    {
     "name": "stderr",
     "output_type": "stream",
     "text": [
      "15it [00:00, 19007.42it/s]\n"
     ]
    },
    {
     "ename": "AssertionError",
     "evalue": "Some problems are not attempted.",
     "output_type": "error",
     "traceback": [
      "\u001b[0;31m---------------------------------------------------------------------------\u001b[0m",
      "\u001b[0;31mAssertionError\u001b[0m                            Traceback (most recent call last)",
      "Cell \u001b[0;32mIn[1], line 13\u001b[0m\n\u001b[1;32m     11\u001b[0m timeout \u001b[38;5;241m=\u001b[39m \u001b[38;5;241m60\u001b[39m\n\u001b[1;32m     12\u001b[0m problem_file \u001b[38;5;241m=\u001b[39m HUMAN_EVAL\n\u001b[0;32m---> 13\u001b[0m results \u001b[38;5;241m=\u001b[39m evaluate_functional_correctness(sample_file, k, n_workers, timeout, problem_file)\n",
      "File \u001b[0;32m~/Implementation/anno/human-eval/human_eval/evaluation.py:71\u001b[0m, in \u001b[0;36mevaluate_functional_correctness\u001b[0;34m(sample_file, k, n_workers, timeout, problem_file)\u001b[0m\n\u001b[1;32m     68\u001b[0m     completion_id[task_id] \u001b[38;5;241m+\u001b[39m\u001b[38;5;241m=\u001b[39m \u001b[38;5;241m1\u001b[39m\n\u001b[1;32m     69\u001b[0m     n_samples \u001b[38;5;241m+\u001b[39m\u001b[38;5;241m=\u001b[39m \u001b[38;5;241m1\u001b[39m\n\u001b[0;32m---> 71\u001b[0m \u001b[38;5;28;01massert\u001b[39;00m \u001b[38;5;28mlen\u001b[39m(completion_id) \u001b[38;5;241m==\u001b[39m \u001b[38;5;28mlen\u001b[39m(problems), \u001b[38;5;124m\"\u001b[39m\u001b[38;5;124mSome problems are not attempted.\u001b[39m\u001b[38;5;124m\"\u001b[39m\n\u001b[1;32m     73\u001b[0m \u001b[38;5;28mprint\u001b[39m(\u001b[38;5;124m\"\u001b[39m\u001b[38;5;124mRunning test suites...\u001b[39m\u001b[38;5;124m\"\u001b[39m)\n\u001b[1;32m     74\u001b[0m \u001b[38;5;28;01mfor\u001b[39;00m future \u001b[38;5;129;01min\u001b[39;00m tqdm\u001b[38;5;241m.\u001b[39mtqdm(as_completed(futures), total\u001b[38;5;241m=\u001b[39m\u001b[38;5;28mlen\u001b[39m(futures)):\n",
      "\u001b[0;31mAssertionError\u001b[0m: Some problems are not attempted."
     ]
    }
   ],
   "source": [
    "# Evaluate performance on the runs\n",
    "file_name = \"run_llama3_test.jsonl\"\n",
    "# from pydash import sample_size\n",
    "# from zmq import PROBE_ROUTER\n",
    "from human_eval.evaluation import evaluate_functional_correctness\n",
    "from human_eval.data import HUMAN_EVAL\n",
    "\n",
    "k = [1, 3]\n",
    "sample_file = file_name\n",
    "n_workers = 1\n",
    "timeout = 60\n",
    "problem_file = HUMAN_EVAL\n",
    "results = evaluate_functional_correctness(sample_file, k, n_workers, timeout, problem_file)\n"
   ]
  },
  {
   "cell_type": "code",
   "execution_count": null,
   "metadata": {},
   "outputs": [],
   "source": []
  }
 ],
 "metadata": {
  "kernelspec": {
   "display_name": "base",
   "language": "python",
   "name": "python3"
  },
  "language_info": {
   "codemirror_mode": {
    "name": "ipython",
    "version": 3
   },
   "file_extension": ".py",
   "mimetype": "text/x-python",
   "name": "python",
   "nbconvert_exporter": "python",
   "pygments_lexer": "ipython3",
   "version": "3.11.5"
  }
 },
 "nbformat": 4,
 "nbformat_minor": 2
}
