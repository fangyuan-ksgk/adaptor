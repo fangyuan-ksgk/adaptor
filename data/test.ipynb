{
 "cells": [
  {
   "cell_type": "markdown",
   "metadata": {},
   "source": [
    "#### (I). Inference on HumanEval: Phi3 & llama3-8B\n",
    "* Pre-trained model requires less time to generate completion | They also have higher accuracy on HumanEval\n",
    "* Instruction model requires mode time to generate response | Accuracy also laggs a bit more\n",
    "* Error / Success with Message information included"
   ]
  },
  {
   "cell_type": "code",
   "execution_count": 1,
   "metadata": {},
   "outputs": [
    {
     "data": {
      "application/vnd.jupyter.widget-view+json": {
       "model_id": "411ccdf6074c4d51b33142a888d431f0",
       "version_major": 2,
       "version_minor": 0
      },
      "text/plain": [
       "Fetching 13 files:   0%|          | 0/13 [00:00<?, ?it/s]"
      ]
     },
     "metadata": {},
     "output_type": "display_data"
    },
    {
     "name": "stdout",
     "output_type": "stream",
     "text": [
      "[WARNING] rope_scaling 'type' currently only supports 'linear' setting rope scaling to false.\n"
     ]
    },
    {
     "name": "stderr",
     "output_type": "stream",
     "text": [
      "Special tokens have been added in the vocabulary, make sure the associated word embeddings are fine-tuned or trained.\n",
      "Generating completions:   9%|▉         | 29/328 [06:48<2:16:49, 27.46s/it]"
     ]
    },
    {
     "ename": "KeyboardInterrupt",
     "evalue": "",
     "output_type": "error",
     "traceback": [
      "\u001b[0;31m---------------------------------------------------------------------------\u001b[0m",
      "\u001b[0;31mKeyboardInterrupt\u001b[0m                         Traceback (most recent call last)",
      "Cell \u001b[0;32mIn[1], line 21\u001b[0m\n\u001b[1;32m     19\u001b[0m \u001b[38;5;28;01mfor\u001b[39;00m task_id \u001b[38;5;129;01min\u001b[39;00m problems:\n\u001b[1;32m     20\u001b[0m     \u001b[38;5;28;01mfor\u001b[39;00m _ \u001b[38;5;129;01min\u001b[39;00m \u001b[38;5;28mrange\u001b[39m(num_samples_per_task):\n\u001b[0;32m---> 21\u001b[0m         completion \u001b[38;5;241m=\u001b[39m code_gen\u001b[38;5;241m.\u001b[39mgenerate_one_completion(problems[task_id][\u001b[38;5;124m\"\u001b[39m\u001b[38;5;124mprompt\u001b[39m\u001b[38;5;124m\"\u001b[39m])\n\u001b[1;32m     22\u001b[0m         samples\u001b[38;5;241m.\u001b[39mappend(\u001b[38;5;28mdict\u001b[39m(task_id\u001b[38;5;241m=\u001b[39mtask_id, completion\u001b[38;5;241m=\u001b[39mcompletion))\n\u001b[1;32m     23\u001b[0m         pb\u001b[38;5;241m.\u001b[39mupdate(\u001b[38;5;241m1\u001b[39m)\n",
      "File \u001b[0;32m~/Implementation/Adaptor/adaptor/data/sample_hf.py:143\u001b[0m, in \u001b[0;36mCodeCompletionGenerator.generate_one_completion\u001b[0;34m(self, prompt)\u001b[0m\n\u001b[1;32m    141\u001b[0m \u001b[38;5;28;01mif\u001b[39;00m \u001b[38;5;28mself\u001b[39m\u001b[38;5;241m.\u001b[39mdevice \u001b[38;5;241m==\u001b[39m \u001b[38;5;124m\"\u001b[39m\u001b[38;5;124mmps\u001b[39m\u001b[38;5;124m\"\u001b[39m:\n\u001b[1;32m    142\u001b[0m     \u001b[38;5;28;01mif\u001b[39;00m \u001b[38;5;28mself\u001b[39m\u001b[38;5;241m.\u001b[39mis_instruct:\n\u001b[0;32m--> 143\u001b[0m         \u001b[38;5;28;01mreturn\u001b[39;00m get_mlx_completion_instruct(prompt, \u001b[38;5;28mself\u001b[39m\u001b[38;5;241m.\u001b[39mmodel, \u001b[38;5;28mself\u001b[39m\u001b[38;5;241m.\u001b[39mtokenizer)\n\u001b[1;32m    144\u001b[0m     \u001b[38;5;28;01melse\u001b[39;00m:\n\u001b[1;32m    145\u001b[0m         \u001b[38;5;28;01mreturn\u001b[39;00m get_mlx_completion_pretrained(prompt, \u001b[38;5;28mself\u001b[39m\u001b[38;5;241m.\u001b[39mmodel, \u001b[38;5;28mself\u001b[39m\u001b[38;5;241m.\u001b[39mtokenizer)\n",
      "File \u001b[0;32m~/Implementation/Adaptor/adaptor/data/sample_hf.py:82\u001b[0m, in \u001b[0;36mget_mlx_completion_instruct\u001b[0;34m(prompt, model, tokenizer, verbose)\u001b[0m\n\u001b[1;32m     73\u001b[0m messages \u001b[38;5;241m=\u001b[39m [\n\u001b[1;32m     74\u001b[0m     {\n\u001b[1;32m     75\u001b[0m         \u001b[38;5;124m\"\u001b[39m\u001b[38;5;124mrole\u001b[39m\u001b[38;5;124m\"\u001b[39m: \u001b[38;5;124m\"\u001b[39m\u001b[38;5;124msystem\u001b[39m\u001b[38;5;124m\"\u001b[39m,\n\u001b[0;32m   (...)\u001b[0m\n\u001b[1;32m     79\u001b[0m     {\u001b[38;5;124m\"\u001b[39m\u001b[38;5;124mrole\u001b[39m\u001b[38;5;124m\"\u001b[39m: \u001b[38;5;124m\"\u001b[39m\u001b[38;5;124muser\u001b[39m\u001b[38;5;124m\"\u001b[39m, \u001b[38;5;124m\"\u001b[39m\u001b[38;5;124mcontent\u001b[39m\u001b[38;5;124m\"\u001b[39m: prompt},\n\u001b[1;32m     80\u001b[0m ]\n\u001b[1;32m     81\u001b[0m format_prompt \u001b[38;5;241m=\u001b[39m tokenizer\u001b[38;5;241m.\u001b[39mapply_chat_template(messages, tokenize\u001b[38;5;241m=\u001b[39m\u001b[38;5;28;01mFalse\u001b[39;00m, add_generation_prompt\u001b[38;5;241m=\u001b[39m\u001b[38;5;28;01mTrue\u001b[39;00m)\n\u001b[0;32m---> 82\u001b[0m response \u001b[38;5;241m=\u001b[39m generate(model, tokenizer, prompt\u001b[38;5;241m=\u001b[39mformat_prompt, max_tokens\u001b[38;5;241m=\u001b[39m\u001b[38;5;241m512\u001b[39m, temp\u001b[38;5;241m=\u001b[39m\u001b[38;5;241m0.2\u001b[39m, top_p\u001b[38;5;241m=\u001b[39m\u001b[38;5;241m0.95\u001b[39m, verbose\u001b[38;5;241m=\u001b[39mverbose)\n\u001b[1;32m     83\u001b[0m response \u001b[38;5;241m=\u001b[39m response\u001b[38;5;241m.\u001b[39msplit(\u001b[38;5;124m\"\u001b[39m\u001b[38;5;124m<|im_end|>\u001b[39m\u001b[38;5;124m\"\u001b[39m)[\u001b[38;5;241m0\u001b[39m]\n\u001b[1;32m     84\u001b[0m \u001b[38;5;28;01mreturn\u001b[39;00m response\n",
      "File \u001b[0;32m~/anaconda3/lib/python3.11/site-packages/mlx_lm/utils.py:239\u001b[0m, in \u001b[0;36mgenerate\u001b[0;34m(model, tokenizer, prompt, temp, max_tokens, verbose, formatter, repetition_penalty, repetition_context_size, top_p, logit_bias)\u001b[0m\n\u001b[1;32m    236\u001b[0m tic \u001b[38;5;241m=\u001b[39m time\u001b[38;5;241m.\u001b[39mperf_counter()\n\u001b[1;32m    237\u001b[0m detokenizer\u001b[38;5;241m.\u001b[39mreset()\n\u001b[0;32m--> 239\u001b[0m \u001b[38;5;28;01mfor\u001b[39;00m (token, prob), n \u001b[38;5;129;01min\u001b[39;00m \u001b[38;5;28mzip\u001b[39m(\n\u001b[1;32m    240\u001b[0m     generate_step(\n\u001b[1;32m    241\u001b[0m         prompt_tokens,\n\u001b[1;32m    242\u001b[0m         model,\n\u001b[1;32m    243\u001b[0m         temp,\n\u001b[1;32m    244\u001b[0m         repetition_penalty,\n\u001b[1;32m    245\u001b[0m         repetition_context_size,\n\u001b[1;32m    246\u001b[0m         top_p,\n\u001b[1;32m    247\u001b[0m         logit_bias,\n\u001b[1;32m    248\u001b[0m     ),\n\u001b[1;32m    249\u001b[0m     \u001b[38;5;28mrange\u001b[39m(max_tokens),\n\u001b[1;32m    250\u001b[0m ):\n\u001b[1;32m    251\u001b[0m     \u001b[38;5;28;01mif\u001b[39;00m n \u001b[38;5;241m==\u001b[39m \u001b[38;5;241m0\u001b[39m:\n\u001b[1;32m    252\u001b[0m         prompt_time \u001b[38;5;241m=\u001b[39m time\u001b[38;5;241m.\u001b[39mperf_counter() \u001b[38;5;241m-\u001b[39m tic\n",
      "File \u001b[0;32m~/anaconda3/lib/python3.11/site-packages/mlx_lm/utils.py:193\u001b[0m, in \u001b[0;36mgenerate_step\u001b[0;34m(prompt, model, temp, repetition_penalty, repetition_context_size, top_p, logit_bias)\u001b[0m\n\u001b[1;32m    191\u001b[0m next_y, next_p \u001b[38;5;241m=\u001b[39m _step(y)\n\u001b[1;32m    192\u001b[0m mx\u001b[38;5;241m.\u001b[39masync_eval(next_y)\n\u001b[0;32m--> 193\u001b[0m \u001b[38;5;28;01myield\u001b[39;00m y\u001b[38;5;241m.\u001b[39mitem(), p\n\u001b[1;32m    194\u001b[0m y, p \u001b[38;5;241m=\u001b[39m next_y, next_p\n",
      "\u001b[0;31mKeyboardInterrupt\u001b[0m: "
     ]
    }
   ],
   "source": [
    "from sample_hf import CodeCompletionGenerator\n",
    "from human_eval.data import write_jsonl, read_problems\n",
    "from tqdm import tqdm\n",
    "\n",
    "model_name = \"microsoft/Phi-3-mini-128k-instruct\"\n",
    "# model_name=\"meta-llama/Meta-Llama-3-8B\"\n",
    "is_instruct = True\n",
    "file_name = \"eval_phi_3_instruct\"\n",
    "\n",
    "code_gen = CodeCompletionGenerator(model_name=model_name, device=\"mps\", is_instruct=is_instruct)\n",
    "\n",
    "problems = read_problems()\n",
    "# problems = {k: problems[k] for k in list(problems.keys())[:1]} # SubSample Problems out of the 163 cases\n",
    "\n",
    "num_samples_per_task = 2\n",
    "total_tasks = len(problems)\n",
    "pb = tqdm(total=total_tasks * num_samples_per_task, desc=\"Generating completions\")\n",
    "samples = []\n",
    "for task_id in problems:\n",
    "    for _ in range(num_samples_per_task):\n",
    "        completion = code_gen.generate_one_completion(problems[task_id][\"prompt\"])\n",
    "        samples.append(dict(task_id=task_id, completion=completion))\n",
    "        pb.update(1)\n",
    "pb.close()\n",
    "write_jsonl(f\"{file_name}.jsonl\", samples)"
   ]
  },
  {
   "cell_type": "markdown",
   "metadata": {},
   "source": [
    "MLX generation approach is not right, the error rate is way to high ...\n",
    "\n",
    "Try something else here"
   ]
  },
  {
   "cell_type": "code",
   "execution_count": 1,
   "metadata": {},
   "outputs": [
    {
     "name": "stdout",
     "output_type": "stream",
     "text": [
      "Writing results to eval_phi_3_instruct.jsonl_results.jsonl...\n"
     ]
    },
    {
     "name": "stderr",
     "output_type": "stream",
     "text": [
      "100%|██████████| 328/328 [00:27<00:00, 11.87it/s]\n"
     ]
    }
   ],
   "source": [
    "from sample_hf import check_performance\n",
    "file_name=\"eval_phi_3_instruct\"\n",
    "check_performance(file_name)"
   ]
  },
  {
   "cell_type": "code",
   "execution_count": 8,
   "metadata": {},
   "outputs": [],
   "source": []
  },
  {
   "cell_type": "code",
   "execution_count": null,
   "metadata": {},
   "outputs": [],
   "source": []
  }
 ],
 "metadata": {
  "kernelspec": {
   "display_name": "base",
   "language": "python",
   "name": "python3"
  },
  "language_info": {
   "codemirror_mode": {
    "name": "ipython",
    "version": 3
   },
   "file_extension": ".py",
   "mimetype": "text/x-python",
   "name": "python",
   "nbconvert_exporter": "python",
   "pygments_lexer": "ipython3",
   "version": "3.11.5"
  }
 },
 "nbformat": 4,
 "nbformat_minor": 2
}
